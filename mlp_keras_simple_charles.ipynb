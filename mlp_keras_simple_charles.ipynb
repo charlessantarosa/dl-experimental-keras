{
  "nbformat": 4,
  "nbformat_minor": 0,
  "metadata": {
    "colab": {
      "name": "mlp-keras-simple-charles.ipynb",
      "provenance": [],
      "collapsed_sections": []
    },
    "kernelspec": {
      "name": "python3",
      "display_name": "Python 3"
    },
    "language_info": {
      "name": "python"
    }
  },
  "cells": [
    {
      "cell_type": "code",
      "metadata": {
        "id": "2Eyk5wsdm1T3"
      },
      "source": [
        "# Bibliotecas necessárias\n",
        "# Manipulação de dados\n",
        "import pandas as pd\n",
        "# Redes Neurais\n",
        "from tensorflow import keras\n",
        "from tensorflow.keras.datasets import mnist\n",
        "from tensorflow.keras.models import Sequential\n",
        "from tensorflow.keras.layers import Dense, Dropout\n",
        "from tensorflow.keras.optimizers import RMSprop\n",
        "# Plot\n",
        "import matplotlib.pyplot as plt\n",
        "%matplotlib inline\n",
        "# Avaliação\n",
        "from sklearn.metrics import classification_report, confusion_matrix\n",
        "from google.colab import drive"
      ],
      "execution_count": 1,
      "outputs": []
    },
    {
      "cell_type": "code",
      "metadata": {
        "colab": {
          "base_uri": "https://localhost:8080/"
        },
        "id": "aUs-juzBm-Eo",
        "outputId": "8ec7cfb8-55e5-4b4c-e367-e11947ad1a93"
      },
      "source": [
        "DIR = '/content/drive/'\n",
        "drive.mount('/content/drive/')\n"
      ],
      "execution_count": 3,
      "outputs": [
        {
          "output_type": "stream",
          "name": "stdout",
          "text": [
            "Drive already mounted at /content/drive/; to attempt to forcibly remount, call drive.mount(\"/content/drive/\", force_remount=True).\n"
          ]
        }
      ]
    },
    {
      "cell_type": "code",
      "metadata": {
        "colab": {
          "base_uri": "https://localhost:8080/"
        },
        "id": "fM7d1Bc7oYsj",
        "outputId": "092aa6b0-9a71-4b47-c7d7-46e1a4add27a"
      },
      "source": [
        "!ls -la $PATH /MyDrive'"
      ],
      "execution_count": 5,
      "outputs": [
        {
          "output_type": "stream",
          "name": "stdout",
          "text": [
            "ls: cannot access '+': No such file or directory\n",
            "ls: cannot access '/MyDrive': No such file or directory\n",
            "/content/drive/:\n",
            "total 16\n",
            "dr-x------ 2 root root 4096 Oct 22 15:31 .file-revisions-by-id\n",
            "drwx------ 9 root root 4096 Oct 22 15:31 MyDrive\n",
            "dr-x------ 2 root root 4096 Oct 22 15:31 .shortcut-targets-by-id\n",
            "drwx------ 5 root root 4096 Oct 22 15:31 .Trash-0\n"
          ]
        }
      ]
    },
    {
      "cell_type": "code",
      "metadata": {
        "id": "LfDHRhbxm9Yw"
      },
      "source": [
        "# Lendo o dataset Kaggle\n",
        "train = pd.read_csv(\"../input/digit-recognizer/train.csv\")\n",
        "\n",
        "#Alternativa ler do próprio keras\n",
        "#(x_train, y_train), (x_test, y_test) = mnist.load_data()\n"
      ],
      "execution_count": null,
      "outputs": []
    },
    {
      "cell_type": "code",
      "metadata": {
        "id": "ZvnWY2R5nQny"
      },
      "source": [
        "# Analisando o dataset\n",
        "print(\"Quantidade de elementos de treino: {}\". format(len(train)))\n",
        "print(train.head())"
      ],
      "execution_count": null,
      "outputs": []
    },
    {
      "cell_type": "code",
      "metadata": {
        "id": "qPAAfnqInRyX"
      },
      "source": [
        "# Separando x_train e y_train\n",
        "Y = train[\"label\"]\n",
        "X = train.drop(labels = [\"label\"],axis = 1)\n",
        "print(X.head())\n",
        "# Em formato numpy array de imagens 28 x 28\n",
        "#x = X.values.reshape(-1,28,28,1)\n",
        "#print(x[0])"
      ],
      "execution_count": null,
      "outputs": []
    },
    {
      "cell_type": "code",
      "metadata": {
        "id": "pI6rnD7AnTDw"
      },
      "source": [
        "print(Y)"
      ],
      "execution_count": null,
      "outputs": []
    },
    {
      "cell_type": "code",
      "metadata": {
        "id": "HY42MAETnUIC"
      },
      "source": [
        "# Numtendi nada!\n",
        "# Bora ver com matplotlib\n",
        "plt.imshow(X.values[100].reshape(28,28), cmap=plt.cm.binary)\n",
        "plt.show()\n",
        "print('Label: {}'.format(Y[100]))"
      ],
      "execution_count": null,
      "outputs": []
    },
    {
      "cell_type": "code",
      "metadata": {
        "id": "-CVZTIDZnVdo"
      },
      "source": [
        "# Transformando a imagem 2d em um numpy array (imagem 28*28 = 784 pixels)\n",
        "x = X.values.reshape(42000, 784)\n",
        "\n",
        "#Normalizando para valores entre 0 e 1\n",
        "x = x.astype('float32')\n",
        "x /= 255\n",
        "\n",
        "print(x[0])"
      ],
      "execution_count": null,
      "outputs": []
    },
    {
      "cell_type": "code",
      "metadata": {
        "id": "qmdH-u0BnWvo"
      },
      "source": [
        "# Separando uma parte para treino (90%) e outra para validação (10%)\n",
        "from sklearn.model_selection import train_test_split\n",
        "x_train, x_val, y_train, y_val = train_test_split(x, y, test_size = 0.1, random_state=9)\n",
        "print('Qtde de treino: {}'.format(len(x_train)))\n",
        "print('Qtde de validação: {}'.format(len(x_val)))"
      ],
      "execution_count": null,
      "outputs": []
    },
    {
      "cell_type": "code",
      "metadata": {
        "id": "N_gdhXJqnX7I"
      },
      "source": [
        "# Criando o modelo Sequential\n",
        "# Sequential: Modelo Keras de ir adicionando camadas (como um lego)\n",
        "# Dense: Camada onde todas as entradas estão conectadas em cada neurônio (totalmente conectada)\n",
        "# Dropout: Camada usa durante treino que descarta aleatoriamente um percentual de conexões (reduz overfitting)\n",
        "\n",
        "model = Sequential()\n",
        "# Camada com 30 neurônios\n",
        "model.add(Dense(30, activation='relu', input_shape=(784,)))\n",
        "# Dropout de 20%\n",
        "model.add(Dropout(0.2))\n",
        "# Camada de 20 neurônios\n",
        "model.add(Dense(20, activation='relu'))\n",
        "# Dropout de 20%\n",
        "model.add(Dropout(0.2))\n",
        "# Camda de classificação final, com 1 neurônio para cada classe de saída. Softmax divide a probabilidade de cada classe.\n",
        "model.add(Dense(num_classes, activation='softmax'))\n",
        "\n",
        "model.summary()"
      ],
      "execution_count": null,
      "outputs": []
    },
    {
      "cell_type": "code",
      "metadata": {
        "id": "pEzrUTuonZUI"
      },
      "source": [
        "# Compila o modelo\n",
        "model.compile(loss='categorical_crossentropy',\n",
        "              optimizer=RMSprop(),\n",
        "              metrics=['accuracy'])"
      ],
      "execution_count": null,
      "outputs": []
    },
    {
      "cell_type": "code",
      "metadata": {
        "id": "TmYBQnY8naiu"
      },
      "source": [
        "# Treina com os parte dos dados\n",
        "batch_size = 32\n",
        "epochs = 30\n",
        "history = model.fit(x_train, y_train,\n",
        "                    batch_size=batch_size,\n",
        "                    epochs=epochs,\n",
        "                    verbose=1,\n",
        "                    validation_data=(x_val, y_val))"
      ],
      "execution_count": null,
      "outputs": []
    },
    {
      "cell_type": "code",
      "metadata": {
        "id": "2ukQ4RbOnb3Y"
      },
      "source": [
        "#Vamos ver como foi o treino?\n",
        "\n",
        "fig, ax = plt.subplots(1,2, figsize=(16,8))\n",
        "ax[0].plot(history.history['loss'], color='b', label=\"Training loss\")\n",
        "ax[0].plot(history.history['val_loss'], color='r', label=\"validation loss\",axes =ax[0])\n",
        "legend = ax[0].legend(loc='best', shadow=True)\n",
        "\n",
        "ax[1].plot(history.history['accuracy'], color='b', label=\"Training accuracy\")\n",
        "ax[1].plot(history.history['val_accuracy'], color='r',label=\"Validation accuracy\")\n",
        "legend = ax[1].legend(loc='best', shadow=True)"
      ],
      "execution_count": null,
      "outputs": []
    },
    {
      "cell_type": "code",
      "metadata": {
        "id": "0dnP39PgndSY"
      },
      "source": [
        "# Testa\n",
        "score = model.evaluate(x_val, y_val, verbose=0)\n",
        "print('Test loss:', score[0])\n",
        "print('Test accuracy:', score[1])"
      ],
      "execution_count": null,
      "outputs": []
    },
    {
      "cell_type": "code",
      "metadata": {
        "id": "6_nw15hgnez4"
      },
      "source": [
        "Y[10]"
      ],
      "execution_count": null,
      "outputs": []
    },
    {
      "cell_type": "code",
      "metadata": {
        "id": "qMJ79zBnngHS"
      },
      "source": [
        "# Testando uma entrada qualquer\n",
        "print(y_train[10])\n",
        "print(model.predict(x_train[10].reshape((1,784))))\n",
        "print(model.predict_classes(x_train[10].reshape((1,784))))"
      ],
      "execution_count": null,
      "outputs": []
    },
    {
      "cell_type": "code",
      "metadata": {
        "id": "n9_bAOz1nhbX"
      },
      "source": [
        "import itertools\n",
        "#Plot the confusion matrix. Set Normalize = True/False\n",
        "def plot_confusion_matrix(cm, classes, normalize=True, title='Confusion matrix', cmap=plt.cm.Blues):\n",
        "    \"\"\"\n",
        "    This function prints and plots the confusion matrix.\n",
        "    Normalization can be applied by setting `normalize=True`.\n",
        "    \"\"\"\n",
        "    plt.figure(figsize=(10,10))\n",
        "    plt.imshow(cm, interpolation='nearest', cmap=cmap)\n",
        "    plt.title(title)\n",
        "    plt.colorbar()\n",
        "    tick_marks = np.arange(len(classes))\n",
        "    plt.xticks(tick_marks, classes, rotation=45)\n",
        "    plt.yticks(tick_marks, classes)\n",
        "    if normalize:\n",
        "        cm = cm.astype('float') / cm.sum(axis=1)[:, np.newaxis]\n",
        "        cm = np.around(cm, decimals=2)\n",
        "        cm[np.isnan(cm)] = 0.0\n",
        "    thresh = cm.max() / 2.\n",
        "    for i, j in itertools.product(range(cm.shape[0]), range(cm.shape[1])):\n",
        "        plt.text(j, i, cm[i, j],\n",
        "                 horizontalalignment=\"center\",\n",
        "                 color=\"white\" if cm[i, j] > thresh else \"black\")\n",
        "    plt.tight_layout()\n",
        "    plt.ylabel('True label')\n",
        "    plt.xlabel('Predicted label')"
      ],
      "execution_count": null,
      "outputs": []
    },
    {
      "cell_type": "code",
      "metadata": {
        "id": "VxI8nJD4nizw"
      },
      "source": [
        "# Vendo alguns reports\n",
        "# Usando sklearn\n",
        "import numpy as np\n",
        "\n",
        "# Classificando toda base de teste\n",
        "y_pred = model.predict_classes(x_val)\n",
        "# voltando pro formato de classes\n",
        "y_test_c = np.argmax(y_val, axis=1)\n",
        "target_names = ['0', '1', '2', '3', '4', '5', '6', '7', '8', '9']\n",
        "\n",
        "#Confution Matrix\n",
        "cm = confusion_matrix(y_test_c, y_pred)\n",
        "plot_confusion_matrix(cm, target_names, normalize=False, title='Confusion Matrix')\n",
        "\n",
        "print('Classification Report')\n",
        "print(classification_report(y_test_c, y_pred, target_names=target_names))"
      ],
      "execution_count": null,
      "outputs": []
    },
    {
      "cell_type": "code",
      "metadata": {
        "id": "4Nkkqw_knkJJ"
      },
      "source": [
        "# Gerando saída para dataset de teste\n",
        "\n",
        "#Carrega dataset de teste\n",
        "test = pd.read_csv(\"../input/digit-recognizer/test.csv\")\n",
        "print(\"Qtde de testes: {}\".format(len(test)))\n",
        "# Bota no formato numpy e normaliza\n",
        "x_test = test.values.reshape(len(test),784)\n",
        "x_test = x_test.astype('float32')\n",
        "x_test /= 255\n",
        "\n",
        "# Faz classificação para dataset de teste\n",
        "y_pred = model.predict_classes(x_test)\n",
        "\n",
        "# Verficando algum exemplo\n",
        "i = 0\n",
        "plt.imshow(test.values[i].reshape(28,28), cmap=plt.cm.binary)\n",
        "plt.show()\n",
        "print('Previsto: {}'.format(y_pred[i]))\n",
        "\n",
        "# Botando no formato de saída (competição Kaggle)\n",
        "results = pd.Series(y_pred,name=\"Label\")\n",
        "submission = pd.concat([pd.Series(range(1,len(y_pred)+1),name = \"ImageId\"),results],axis = 1)\n",
        "print(submission.head(10))\n",
        "#Salvando Arquivo\n",
        "submission.to_csv(\"mlp_mnist_v1.csv\",index=False)"
      ],
      "execution_count": null,
      "outputs": []
    },
    {
      "cell_type": "code",
      "metadata": {
        "id": "8rbq6mF6nl44"
      },
      "source": [
        "#introduzindo ruido\n",
        "import numpy as np\n",
        "mean = 0.\n",
        "stddev = 0.2\n",
        "noise = np.random.normal(mean, stddev, (4200, 784))\n",
        "x_te = x_val + noise\n",
        "x_te = np.clip(x_te, 0., 1.)\n",
        "\n",
        "plt.imshow(x_te.reshape(4200, 28,28)[0], cmap=plt.cm.binary)\n",
        "plt.show()\n",
        "\n",
        "# Testa\n",
        "score = model.evaluate(x_te, y_val, verbose=0)\n",
        "print('Test loss:', score[0])\n",
        "print('Test accuracy:', score[1])"
      ],
      "execution_count": null,
      "outputs": []
    }
  ]
}